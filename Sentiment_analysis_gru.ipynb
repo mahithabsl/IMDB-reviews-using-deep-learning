{
  "nbformat": 4,
  "nbformat_minor": 0,
  "metadata": {
    "colab": {
      "name": "Sentiment_analysis_gru.ipynb",
      "provenance": []
    },
    "kernelspec": {
      "display_name": "Python 3",
      "name": "python3"
    },
    "language_info": {
      "name": "python"
    }
  },
  "cells": [
    {
      "cell_type": "code",
      "metadata": {
        "colab": {
          "base_uri": "https://localhost:8080/"
        },
        "id": "OGu-uo9TKudg",
        "outputId": "f694af94-1909-4698-ed17-5358c4ed7ec2"
      },
      "source": [
        "from google.colab import drive\n",
        "drive.mount('/content/drive')"
      ],
      "execution_count": 4,
      "outputs": [
        {
          "output_type": "stream",
          "name": "stdout",
          "text": [
            "Mounted at /content/drive\n"
          ]
        }
      ]
    },
    {
      "cell_type": "code",
      "metadata": {
        "id": "n0PQ4QAJLM69"
      },
      "source": [
        "import warnings\n",
        "warnings.filterwarnings('ignore')\n",
        "\n",
        "# Modules for data manipulation\n",
        "import numpy as np\n",
        "import pandas as pd\n",
        "import re\n",
        "\n",
        "# Modules for visualization\n",
        "import matplotlib.pyplot as plt\n",
        "import seaborn as sb\n",
        "\n",
        "# Tools for preprocessing input data\n",
        "from bs4 import BeautifulSoup\n",
        "from nltk import word_tokenize\n",
        "from nltk.corpus import stopwords\n",
        "from nltk.stem import WordNetLemmatizer\n",
        "\n",
        "# Tools for creating ngrams and vectorizing input data\n",
        "from gensim.models import Word2Vec, Phrases\n",
        "\n",
        "# Tools for building a model\n",
        "from sklearn.model_selection import train_test_split\n",
        "from keras.models import Sequential\n",
        "from keras.layers import Dense, LSTM, Dropout, Bidirectional\n",
        "from keras.layers.embeddings import Embedding\n",
        "from keras.preprocessing.sequence import pad_sequences\n",
        "\n",
        "# Tools for assessing the quality of model prediction\n",
        "from sklearn.metrics import accuracy_score, confusion_matrix"
      ],
      "execution_count": 5,
      "outputs": []
    },
    {
      "cell_type": "code",
      "metadata": {
        "id": "sqeBrNhJLOB2"
      },
      "source": [
        "SMALL_SIZE = 12\n",
        "MEDIUM_SIZE = 14\n",
        "BIG_SIZE = 16\n",
        "LARGE_SIZE = 20\n",
        "\n",
        "params = {\n",
        "    'figure.figsize': (16, 8),\n",
        "    'font.size': SMALL_SIZE,\n",
        "    'xtick.labelsize': MEDIUM_SIZE,\n",
        "    'ytick.labelsize': MEDIUM_SIZE,\n",
        "    'legend.fontsize': BIG_SIZE,\n",
        "    'figure.titlesize': LARGE_SIZE,\n",
        "    'axes.titlesize': MEDIUM_SIZE,\n",
        "    'axes.labelsize': BIG_SIZE\n",
        "}\n",
        "plt.rcParams.update(params)"
      ],
      "execution_count": 6,
      "outputs": []
    },
    {
      "cell_type": "code",
      "metadata": {
        "colab": {
          "base_uri": "https://localhost:8080/",
          "height": 203
        },
        "id": "nV5LjXrjLkYa",
        "outputId": "3cecaa52-f93e-4b77-de41-4926e55f459d"
      },
      "source": [
        "data = pd.read_csv('/content/drive/MyDrive/IMDB Sentiment analysis/data/IMDB Dataset.csv')\n",
        "data.head()"
      ],
      "execution_count": 7,
      "outputs": [
        {
          "output_type": "execute_result",
          "data": {
            "text/html": [
              "<div>\n",
              "<style scoped>\n",
              "    .dataframe tbody tr th:only-of-type {\n",
              "        vertical-align: middle;\n",
              "    }\n",
              "\n",
              "    .dataframe tbody tr th {\n",
              "        vertical-align: top;\n",
              "    }\n",
              "\n",
              "    .dataframe thead th {\n",
              "        text-align: right;\n",
              "    }\n",
              "</style>\n",
              "<table border=\"1\" class=\"dataframe\">\n",
              "  <thead>\n",
              "    <tr style=\"text-align: right;\">\n",
              "      <th></th>\n",
              "      <th>review</th>\n",
              "      <th>sentiment</th>\n",
              "    </tr>\n",
              "  </thead>\n",
              "  <tbody>\n",
              "    <tr>\n",
              "      <th>0</th>\n",
              "      <td>One of the other reviewers has mentioned that ...</td>\n",
              "      <td>positive</td>\n",
              "    </tr>\n",
              "    <tr>\n",
              "      <th>1</th>\n",
              "      <td>A wonderful little production. &lt;br /&gt;&lt;br /&gt;The...</td>\n",
              "      <td>positive</td>\n",
              "    </tr>\n",
              "    <tr>\n",
              "      <th>2</th>\n",
              "      <td>I thought this was a wonderful way to spend ti...</td>\n",
              "      <td>positive</td>\n",
              "    </tr>\n",
              "    <tr>\n",
              "      <th>3</th>\n",
              "      <td>Basically there's a family where a little boy ...</td>\n",
              "      <td>negative</td>\n",
              "    </tr>\n",
              "    <tr>\n",
              "      <th>4</th>\n",
              "      <td>Petter Mattei's \"Love in the Time of Money\" is...</td>\n",
              "      <td>positive</td>\n",
              "    </tr>\n",
              "  </tbody>\n",
              "</table>\n",
              "</div>"
            ],
            "text/plain": [
              "                                              review sentiment\n",
              "0  One of the other reviewers has mentioned that ...  positive\n",
              "1  A wonderful little production. <br /><br />The...  positive\n",
              "2  I thought this was a wonderful way to spend ti...  positive\n",
              "3  Basically there's a family where a little boy ...  negative\n",
              "4  Petter Mattei's \"Love in the Time of Money\" is...  positive"
            ]
          },
          "metadata": {},
          "execution_count": 7
        }
      ]
    },
    {
      "cell_type": "code",
      "metadata": {
        "id": "TfZghq5SLmE-"
      },
      "source": [
        "data['sentiment'] = data['sentiment'].apply(lambda x:1 if x=='negative' else 0)"
      ],
      "execution_count": 8,
      "outputs": []
    },
    {
      "cell_type": "code",
      "metadata": {
        "colab": {
          "base_uri": "https://localhost:8080/",
          "height": 203
        },
        "id": "V5QDbc5_LnNL",
        "outputId": "6cc1e4a8-8422-4870-81be-22eb3d33c9f6"
      },
      "source": [
        "data.head()"
      ],
      "execution_count": 9,
      "outputs": [
        {
          "output_type": "execute_result",
          "data": {
            "text/html": [
              "<div>\n",
              "<style scoped>\n",
              "    .dataframe tbody tr th:only-of-type {\n",
              "        vertical-align: middle;\n",
              "    }\n",
              "\n",
              "    .dataframe tbody tr th {\n",
              "        vertical-align: top;\n",
              "    }\n",
              "\n",
              "    .dataframe thead th {\n",
              "        text-align: right;\n",
              "    }\n",
              "</style>\n",
              "<table border=\"1\" class=\"dataframe\">\n",
              "  <thead>\n",
              "    <tr style=\"text-align: right;\">\n",
              "      <th></th>\n",
              "      <th>review</th>\n",
              "      <th>sentiment</th>\n",
              "    </tr>\n",
              "  </thead>\n",
              "  <tbody>\n",
              "    <tr>\n",
              "      <th>0</th>\n",
              "      <td>One of the other reviewers has mentioned that ...</td>\n",
              "      <td>0</td>\n",
              "    </tr>\n",
              "    <tr>\n",
              "      <th>1</th>\n",
              "      <td>A wonderful little production. &lt;br /&gt;&lt;br /&gt;The...</td>\n",
              "      <td>0</td>\n",
              "    </tr>\n",
              "    <tr>\n",
              "      <th>2</th>\n",
              "      <td>I thought this was a wonderful way to spend ti...</td>\n",
              "      <td>0</td>\n",
              "    </tr>\n",
              "    <tr>\n",
              "      <th>3</th>\n",
              "      <td>Basically there's a family where a little boy ...</td>\n",
              "      <td>1</td>\n",
              "    </tr>\n",
              "    <tr>\n",
              "      <th>4</th>\n",
              "      <td>Petter Mattei's \"Love in the Time of Money\" is...</td>\n",
              "      <td>0</td>\n",
              "    </tr>\n",
              "  </tbody>\n",
              "</table>\n",
              "</div>"
            ],
            "text/plain": [
              "                                              review  sentiment\n",
              "0  One of the other reviewers has mentioned that ...          0\n",
              "1  A wonderful little production. <br /><br />The...          0\n",
              "2  I thought this was a wonderful way to spend ti...          0\n",
              "3  Basically there's a family where a little boy ...          1\n",
              "4  Petter Mattei's \"Love in the Time of Money\" is...          0"
            ]
          },
          "metadata": {},
          "execution_count": 9
        }
      ]
    },
    {
      "cell_type": "code",
      "metadata": {
        "colab": {
          "base_uri": "https://localhost:8080/"
        },
        "id": "0LbBuoMMLoKT",
        "outputId": "9f3ae66d-1e30-4e5e-d9aa-a1d47a4bd086"
      },
      "source": [
        "data.shape"
      ],
      "execution_count": 10,
      "outputs": [
        {
          "output_type": "execute_result",
          "data": {
            "text/plain": [
              "(50000, 2)"
            ]
          },
          "metadata": {},
          "execution_count": 10
        }
      ]
    },
    {
      "cell_type": "code",
      "metadata": {
        "id": "CftwGsH0LpeV"
      },
      "source": [
        "train_data = data[0:40000]\n",
        "test_data = data[40000:]"
      ],
      "execution_count": 11,
      "outputs": []
    },
    {
      "cell_type": "code",
      "metadata": {
        "colab": {
          "base_uri": "https://localhost:8080/"
        },
        "id": "xUntglrkLqyc",
        "outputId": "4dac5bfc-e715-44ab-ccb5-d52bfced7691"
      },
      "source": [
        "y_actual_pred = test_data['sentiment']\n",
        "y_actual_pred.shape"
      ],
      "execution_count": 12,
      "outputs": [
        {
          "output_type": "execute_result",
          "data": {
            "text/plain": [
              "(10000,)"
            ]
          },
          "metadata": {},
          "execution_count": 12
        }
      ]
    },
    {
      "cell_type": "code",
      "metadata": {
        "colab": {
          "base_uri": "https://localhost:8080/",
          "height": 203
        },
        "id": "wSfqpEBgLr4J",
        "outputId": "f673d139-343b-4171-ff21-6cd9577e2796"
      },
      "source": [
        "test_data = test_data.drop(columns='sentiment')\n",
        "test_data.head()"
      ],
      "execution_count": 13,
      "outputs": [
        {
          "output_type": "execute_result",
          "data": {
            "text/html": [
              "<div>\n",
              "<style scoped>\n",
              "    .dataframe tbody tr th:only-of-type {\n",
              "        vertical-align: middle;\n",
              "    }\n",
              "\n",
              "    .dataframe tbody tr th {\n",
              "        vertical-align: top;\n",
              "    }\n",
              "\n",
              "    .dataframe thead th {\n",
              "        text-align: right;\n",
              "    }\n",
              "</style>\n",
              "<table border=\"1\" class=\"dataframe\">\n",
              "  <thead>\n",
              "    <tr style=\"text-align: right;\">\n",
              "      <th></th>\n",
              "      <th>review</th>\n",
              "    </tr>\n",
              "  </thead>\n",
              "  <tbody>\n",
              "    <tr>\n",
              "      <th>40000</th>\n",
              "      <td>First off I want to say that I lean liberal on...</td>\n",
              "    </tr>\n",
              "    <tr>\n",
              "      <th>40001</th>\n",
              "      <td>I was excited to see a sitcom that would hopef...</td>\n",
              "    </tr>\n",
              "    <tr>\n",
              "      <th>40002</th>\n",
              "      <td>When you look at the cover and read stuff abou...</td>\n",
              "    </tr>\n",
              "    <tr>\n",
              "      <th>40003</th>\n",
              "      <td>Like many others, I counted on the appearance ...</td>\n",
              "    </tr>\n",
              "    <tr>\n",
              "      <th>40004</th>\n",
              "      <td>This movie was on t.v the other day, and I did...</td>\n",
              "    </tr>\n",
              "  </tbody>\n",
              "</table>\n",
              "</div>"
            ],
            "text/plain": [
              "                                                  review\n",
              "40000  First off I want to say that I lean liberal on...\n",
              "40001  I was excited to see a sitcom that would hopef...\n",
              "40002  When you look at the cover and read stuff abou...\n",
              "40003  Like many others, I counted on the appearance ...\n",
              "40004  This movie was on t.v the other day, and I did..."
            ]
          },
          "metadata": {},
          "execution_count": 13
        }
      ]
    },
    {
      "cell_type": "code",
      "metadata": {
        "colab": {
          "base_uri": "https://localhost:8080/"
        },
        "id": "ApXF-clCLtVL",
        "outputId": "68cca4e3-fa97-4ca3-adc9-905d8d41e1de"
      },
      "source": [
        "train_data.shape\n"
      ],
      "execution_count": 14,
      "outputs": [
        {
          "output_type": "execute_result",
          "data": {
            "text/plain": [
              "(40000, 2)"
            ]
          },
          "metadata": {},
          "execution_count": 14
        }
      ]
    },
    {
      "cell_type": "code",
      "metadata": {
        "colab": {
          "base_uri": "https://localhost:8080/"
        },
        "id": "uUarbGMYLvFQ",
        "outputId": "8ec91e65-37a7-4b02-a615-a6fb4c612e68"
      },
      "source": [
        "test_data.shape"
      ],
      "execution_count": 15,
      "outputs": [
        {
          "output_type": "execute_result",
          "data": {
            "text/plain": [
              "(10000, 1)"
            ]
          },
          "metadata": {},
          "execution_count": 15
        }
      ]
    },
    {
      "cell_type": "code",
      "metadata": {
        "colab": {
          "base_uri": "https://localhost:8080/",
          "height": 203
        },
        "id": "qsaPFOwpLwBo",
        "outputId": "b98e9cc6-eb1d-4bb6-9002-ceb94dca5dfb"
      },
      "source": [
        "datasets = [train_data]\n",
        "titles = ['Train data']\n",
        "for dataset, title in zip(datasets,titles):\n",
        "    # print(title)\n",
        "    # dataset.info()\n",
        "    display(dataset.head())"
      ],
      "execution_count": 16,
      "outputs": [
        {
          "output_type": "display_data",
          "data": {
            "text/html": [
              "<div>\n",
              "<style scoped>\n",
              "    .dataframe tbody tr th:only-of-type {\n",
              "        vertical-align: middle;\n",
              "    }\n",
              "\n",
              "    .dataframe tbody tr th {\n",
              "        vertical-align: top;\n",
              "    }\n",
              "\n",
              "    .dataframe thead th {\n",
              "        text-align: right;\n",
              "    }\n",
              "</style>\n",
              "<table border=\"1\" class=\"dataframe\">\n",
              "  <thead>\n",
              "    <tr style=\"text-align: right;\">\n",
              "      <th></th>\n",
              "      <th>review</th>\n",
              "      <th>sentiment</th>\n",
              "    </tr>\n",
              "  </thead>\n",
              "  <tbody>\n",
              "    <tr>\n",
              "      <th>0</th>\n",
              "      <td>One of the other reviewers has mentioned that ...</td>\n",
              "      <td>0</td>\n",
              "    </tr>\n",
              "    <tr>\n",
              "      <th>1</th>\n",
              "      <td>A wonderful little production. &lt;br /&gt;&lt;br /&gt;The...</td>\n",
              "      <td>0</td>\n",
              "    </tr>\n",
              "    <tr>\n",
              "      <th>2</th>\n",
              "      <td>I thought this was a wonderful way to spend ti...</td>\n",
              "      <td>0</td>\n",
              "    </tr>\n",
              "    <tr>\n",
              "      <th>3</th>\n",
              "      <td>Basically there's a family where a little boy ...</td>\n",
              "      <td>1</td>\n",
              "    </tr>\n",
              "    <tr>\n",
              "      <th>4</th>\n",
              "      <td>Petter Mattei's \"Love in the Time of Money\" is...</td>\n",
              "      <td>0</td>\n",
              "    </tr>\n",
              "  </tbody>\n",
              "</table>\n",
              "</div>"
            ],
            "text/plain": [
              "                                              review  sentiment\n",
              "0  One of the other reviewers has mentioned that ...          0\n",
              "1  A wonderful little production. <br /><br />The...          0\n",
              "2  I thought this was a wonderful way to spend ti...          0\n",
              "3  Basically there's a family where a little boy ...          1\n",
              "4  Petter Mattei's \"Love in the Time of Money\" is...          0"
            ]
          },
          "metadata": {}
        }
      ]
    },
    {
      "cell_type": "code",
      "metadata": {
        "colab": {
          "base_uri": "https://localhost:8080/"
        },
        "id": "y2RORdrMLxDv",
        "outputId": "4a03b045-399a-413e-fa95-3f467e2aa8f3"
      },
      "source": [
        "dataset.shape"
      ],
      "execution_count": 17,
      "outputs": [
        {
          "output_type": "execute_result",
          "data": {
            "text/plain": [
              "(40000, 2)"
            ]
          },
          "metadata": {},
          "execution_count": 17
        }
      ]
    },
    {
      "cell_type": "code",
      "metadata": {
        "colab": {
          "base_uri": "https://localhost:8080/",
          "height": 495
        },
        "id": "vVwDq7Q8LyH-",
        "outputId": "f28445cd-2d4f-4e59-b175-acfcae32ef59"
      },
      "source": [
        "plt.hist(train_data[train_data.sentiment == 1].sentiment,\n",
        "         bins=2, color='green', label='Positive')\n",
        "plt.hist(train_data[train_data.sentiment == 0].sentiment,\n",
        "         bins=2, color='blue', label='Negative')\n",
        "plt.title('Classes distribution in the train data', fontsize=LARGE_SIZE)\n",
        "plt.xticks([])\n",
        "plt.xlim(-0.5, 2)\n",
        "plt.legend()\n",
        "plt.show()"
      ],
      "execution_count": 18,
      "outputs": [
        {
          "output_type": "display_data",
          "data": {
            "image/png": "[encoded data removed]",
            "text/plain": [
              "<Figure size 1152x576 with 1 Axes>"
            ]
          },
          "metadata": {
            "needs_background": "light"
          }
        }
      ]
    },
    {
      "cell_type": "code",
      "metadata": {
        "id": "S61kaEbJLzRB"
      },
      "source": [
        "def clean_review(raw_review: str) -> str:\n",
        "    # 1. Remove HTML\n",
        "    review_text = BeautifulSoup(raw_review, \"lxml\").get_text()\n",
        "    # 2. Remove non-letters\n",
        "    letters_only = REPLACE_WITH_SPACE.sub(\" \", review_text)\n",
        "    # 3. Convert to lower case\n",
        "    lowercase_letters = letters_only.lower()\n",
        "    return lowercase_letters\n",
        "\n",
        "\n",
        "def lemmatize(tokens: list) -> list:\n",
        "    # 1. Lemmatize\n",
        "    tokens = list(map(lemmatizer.lemmatize, tokens))\n",
        "    lemmatized_tokens = list(map(lambda x: lemmatizer.lemmatize(x, \"v\"), tokens))\n",
        "    # 2. Remove stop words\n",
        "    meaningful_words = list(filter(lambda x: not x in stop_words, lemmatized_tokens))\n",
        "    return meaningful_words\n",
        "\n",
        "\n",
        "def preprocess(review: str) -> list:\n",
        "   \n",
        "    # if show_progress:\n",
        "    #     global counter\n",
        "    #     counter += 1\n",
        "    #     print('Processing... %6i/%6i'% (counter, total), end='\\r')\n",
        "    # 1. Clean text\n",
        "    review = clean_review(review)\n",
        "    # 2. Split into individual words\n",
        "    tokens = word_tokenize(review)\n",
        "    # 3. Lemmatize\n",
        "    lemmas = lemmatize(tokens)\n",
        "    # 4. Join the words back into one string separated by space,\n",
        "    # and return the result.\n",
        "    return lemmas"
      ],
      "execution_count": 19,
      "outputs": []
    },
    {
      "cell_type": "code",
      "metadata": {
        "colab": {
          "base_uri": "https://localhost:8080/"
        },
        "id": "bpLtWrZWMHdh",
        "outputId": "2f091e43-bd05-4dfb-9dee-10caa329f432"
      },
      "source": [
        "import nltk\n",
        "nltk.download('stopwords')\n",
        "nltk.download('punkt')\n",
        "nltk.download('wordnet')"
      ],
      "execution_count": 20,
      "outputs": [
        {
          "output_type": "stream",
          "name": "stdout",
          "text": [
            "[nltk_data] Downloading package stopwords to /root/nltk_data...\n",
            "[nltk_data]   Unzipping corpora/stopwords.zip.\n",
            "[nltk_data] Downloading package punkt to /root/nltk_data...\n",
            "[nltk_data]   Unzipping tokenizers/punkt.zip.\n",
            "[nltk_data] Downloading package wordnet to /root/nltk_data...\n",
            "[nltk_data]   Unzipping corpora/wordnet.zip.\n"
          ]
        },
        {
          "output_type": "execute_result",
          "data": {
            "text/plain": [
              "True"
            ]
          },
          "metadata": {},
          "execution_count": 20
        }
      ]
    },
    {
      "cell_type": "code",
      "metadata": {
        "id": "aaIuHmTiMInN"
      },
      "source": [
        "counter = 0\n",
        "REPLACE_WITH_SPACE = re.compile(r'[^A-Za-z\\s]')\n",
        "stop_words = set(stopwords.words(\"english\")) \n",
        "lemmatizer = WordNetLemmatizer()"
      ],
      "execution_count": 21,
      "outputs": []
    },
    {
      "cell_type": "code",
      "metadata": {
        "id": "7No-c0psMJvv"
      },
      "source": [
        "all_reviews = []\n",
        "for i in range(len(train_data)):\n",
        "  all_reviews.append(train_data.iloc[i]['review'])"
      ],
      "execution_count": 22,
      "outputs": []
    },
    {
      "cell_type": "code",
      "metadata": {
        "colab": {
          "base_uri": "https://localhost:8080/"
        },
        "id": "nJMZ9skpMKz2",
        "outputId": "04ef1e30-7ece-4e4d-ebcc-211103665c76"
      },
      "source": [
        "len(all_reviews)"
      ],
      "execution_count": 23,
      "outputs": [
        {
          "output_type": "execute_result",
          "data": {
            "text/plain": [
              "40000"
            ]
          },
          "metadata": {},
          "execution_count": 23
        }
      ]
    },
    {
      "cell_type": "code",
      "metadata": {
        "id": "FTAn4Fi9ML4A"
      },
      "source": [
        "x=[]\n",
        "for i in range(len(all_reviews)):\n",
        "  try:\n",
        "    x.append(preprocess(all_reviews[i]))\n",
        "  except:\n",
        "    print('error in ',i)\n",
        "    continue"
      ],
      "execution_count": 24,
      "outputs": []
    },
    {
      "cell_type": "code",
      "metadata": {
        "id": "eje3n5EYMNoH"
      },
      "source": [
        "all_reviews = x"
      ],
      "execution_count": 25,
      "outputs": []
    },
    {
      "cell_type": "code",
      "metadata": {
        "id": "0bu2UE-xMOxl"
      },
      "source": [
        "counter = 0"
      ],
      "execution_count": 26,
      "outputs": []
    },
    {
      "cell_type": "code",
      "metadata": {
        "colab": {
          "base_uri": "https://localhost:8080/"
        },
        "id": "pag2KnzdMPyC",
        "outputId": "e1923ae3-36a9-4ecd-e7f4-25b8cdf7cd79"
      },
      "source": [
        "train_data.shape[0]"
      ],
      "execution_count": 27,
      "outputs": [
        {
          "output_type": "execute_result",
          "data": {
            "text/plain": [
              "40000"
            ]
          },
          "metadata": {},
          "execution_count": 27
        }
      ]
    },
    {
      "cell_type": "code",
      "metadata": {
        "id": "2PlyTbvTMQsU"
      },
      "source": [
        "X_train_data = all_reviews[:train_data.shape[0]]\n"
      ],
      "execution_count": 28,
      "outputs": []
    },
    {
      "cell_type": "code",
      "metadata": {
        "colab": {
          "base_uri": "https://localhost:8080/"
        },
        "id": "njDPi86DMRt0",
        "outputId": "aa3c4123-f5c3-4aad-ebc7-dafa167ab7eb"
      },
      "source": [
        "print(X_train_data[0:2])"
      ],
      "execution_count": 29,
      "outputs": [
        {
          "output_type": "stream",
          "name": "stdout",
          "text": [
            "[['one', 'reviewer', 'ha', 'mention', 'watch', 'oz', 'episode', 'hook', 'right', 'exactly', 'happen', 'first', 'thing', 'strike', 'oz', 'wa', 'brutality', 'unflinching', 'scene', 'violence', 'set', 'right', 'word', 'go', 'trust', 'show', 'faint', 'hearted', 'timid', 'show', 'pull', 'punch', 'regard', 'drug', 'sex', 'violence', 'hardcore', 'classic', 'use', 'word', 'call', 'oz', 'nickname', 'give', 'oswald', 'maximum', 'security', 'state', 'penitentary', 'focus', 'mainly', 'emerald', 'city', 'experimental', 'section', 'prison', 'cell', 'glass', 'front', 'face', 'inwards', 'privacy', 'high', 'agenda', 'em', 'city', 'home', 'many', 'aryan', 'muslim', 'gangsta', 'latino', 'christian', 'italian', 'irish', 'scuffle', 'death', 'stare', 'dodgy', 'deal', 'shady', 'agreement', 'never', 'far', 'away', 'would', 'say', 'main', 'appeal', 'show', 'due', 'fact', 'go', 'show', 'dare', 'forget', 'pretty', 'picture', 'paint', 'mainstream', 'audience', 'forget', 'charm', 'forget', 'romance', 'oz', 'mess', 'around', 'first', 'episode', 'ever', 'saw', 'strike', 'nasty', 'wa', 'surreal', 'say', 'wa', 'ready', 'watch', 'develop', 'taste', 'oz', 'get', 'accustom', 'high', 'level', 'graphic', 'violence', 'violence', 'injustice', 'crook', 'guard', 'sell', 'nickel', 'inmate', 'kill', 'order', 'get', 'away', 'well', 'mannered', 'middle', 'class', 'inmate', 'turn', 'prison', 'bitch', 'due', 'lack', 'street', 'skill', 'prison', 'experience', 'watch', 'oz', 'may', 'become', 'comfortable', 'uncomfortable', 'view', 'thats', 'get', 'touch', 'darker', 'side'], ['wonderful', 'little', 'production', 'film', 'technique', 'unassuming', 'old', 'time', 'bbc', 'fashion', 'give', 'comfort', 'sometimes', 'discomforting', 'sense', 'realism', 'entire', 'piece', 'actor', 'extremely', 'well', 'choose', 'michael', 'sheen', 'ha', 'get', 'polari', 'ha', 'voice', 'pat', 'truly', 'see', 'seamless', 'edit', 'guide', 'reference', 'williams', 'diary', 'entry', 'well', 'worth', 'watch', 'terrificly', 'write', 'perform', 'piece', 'masterful', 'production', 'one', 'great', 'master', 'comedy', 'life', 'realism', 'really', 'come', 'home', 'little', 'thing', 'fantasy', 'guard', 'rather', 'use', 'traditional', 'dream', 'technique', 'remain', 'solid', 'disappear', 'play', 'knowledge', 'sens', 'particularly', 'scene', 'concern', 'orton', 'halliwell', 'set', 'particularly', 'flat', 'halliwell', 'mural', 'decorate', 'every', 'surface', 'terribly', 'well']]\n"
          ]
        }
      ]
    },
    {
      "cell_type": "code",
      "metadata": {
        "id": "gVFrF5csMSxO"
      },
      "source": [
        "Y_train_data = train_data.sentiment.values"
      ],
      "execution_count": 30,
      "outputs": []
    },
    {
      "cell_type": "code",
      "metadata": {
        "id": "Eqm1LB6nMT2a"
      },
      "source": [
        "train_data['review_lenght'] = np.array(list(map(len, X_train_data)))\n",
        "median = train_data['review_lenght'].median()\n",
        "mean = train_data['review_lenght'].mean()\n",
        "mode = train_data['review_lenght'].mode()[0]"
      ],
      "execution_count": 31,
      "outputs": []
    },
    {
      "cell_type": "code",
      "metadata": {
        "colab": {
          "base_uri": "https://localhost:8080/",
          "height": 527
        },
        "id": "3XkFkEyZMU7R",
        "outputId": "56159fbe-fe9d-42c0-ba79-a90c7b113acb"
      },
      "source": [
        "fig, ax = plt.subplots()\n",
        "sb.distplot(train_data['review_lenght'], bins=train_data['review_lenght'].max(),\n",
        "            hist_kws={\"alpha\": 0.9, \"color\": \"blue\"}, ax=ax,\n",
        "            kde_kws={\"color\": \"black\", 'linewidth': 3})\n",
        "ax.set_xlim(left=0, right=np.percentile(train_data['review_lenght'], 95))\n",
        "ax.set_xlabel('Words in review')\n",
        "ymax = 0.014\n",
        "plt.ylim(0, ymax)\n",
        "ax.plot([mode, mode], [0, ymax], '--', label=f'mode = {mode:.2f}', linewidth=4)\n",
        "ax.plot([mean, mean], [0, ymax], '--', label=f'mean = {mean:.2f}', linewidth=4)\n",
        "ax.plot([median, median], [0, ymax], '--',\n",
        "        label=f'median = {median:.2f}', linewidth=4)\n",
        "ax.set_title('Words per review distribution', fontsize=20)\n",
        "plt.legend()\n",
        "plt.show()"
      ],
      "execution_count": 32,
      "outputs": [
        {
          "output_type": "display_data",
          "data": {
            "image/png": "[encoded data removed]",
            "text/plain": [
              "<Figure size 1152x576 with 1 Axes>"
            ]
          },
          "metadata": {
            "needs_background": "light"
          }
        }
      ]
    },
    {
      "cell_type": "code",
      "metadata": {
        "colab": {
          "base_uri": "https://localhost:8080/"
        },
        "id": "LysuAEQgMV6-",
        "outputId": "b43ca6f0-f859-4d4a-bf36-1968d56870b4"
      },
      "source": [
        "%%time\n",
        "bigrams = Phrases(sentences=all_reviews)"
      ],
      "execution_count": 33,
      "outputs": [
        {
          "output_type": "stream",
          "name": "stdout",
          "text": [
            "CPU times: user 10.2 s, sys: 214 ms, total: 10.4 s\n",
            "Wall time: 10.5 s\n"
          ]
        }
      ]
    },
    {
      "cell_type": "code",
      "metadata": {
        "colab": {
          "base_uri": "https://localhost:8080/"
        },
        "id": "QLxFpRGqMXxj",
        "outputId": "6a5fce98-3972-465a-9c6e-d4f7e8329457"
      },
      "source": [
        "%%time\n",
        "trigrams = Phrases(sentences=bigrams[all_reviews])"
      ],
      "execution_count": 34,
      "outputs": [
        {
          "output_type": "stream",
          "name": "stdout",
          "text": [
            "CPU times: user 31 s, sys: 242 ms, total: 31.3 s\n",
            "Wall time: 31.4 s\n"
          ]
        }
      ]
    },
    {
      "cell_type": "code",
      "metadata": {
        "colab": {
          "base_uri": "https://localhost:8080/"
        },
        "id": "laBUh0NaMY0t",
        "outputId": "03e8ca32-dc80-41e5-d753-b3a7322c8561"
      },
      "source": [
        "%%time\n",
        "embedding_vector_size = 256\n",
        "trigrams_model = Word2Vec(\n",
        "    sentences = trigrams[bigrams[all_reviews]],\n",
        "    size = embedding_vector_size,\n",
        "    min_count=3, window=5, workers=4)"
      ],
      "execution_count": 35,
      "outputs": [
        {
          "output_type": "stream",
          "name": "stdout",
          "text": [
            "CPU times: user 6min 32s, sys: 1.38 s, total: 6min 34s\n",
            "Wall time: 5min 20s\n"
          ]
        }
      ]
    },
    {
      "cell_type": "code",
      "metadata": {
        "colab": {
          "base_uri": "https://localhost:8080/"
        },
        "id": "WJOLRvdcMaXB",
        "outputId": "b166db95-ae3b-4692-f48b-187d2394a22b"
      },
      "source": [
        "print(\"Vocabulary size:\", len(trigrams_model.wv.vocab))"
      ],
      "execution_count": 36,
      "outputs": [
        {
          "output_type": "stream",
          "name": "stdout",
          "text": [
            "Vocabulary size: 52762\n"
          ]
        }
      ]
    },
    {
      "cell_type": "code",
      "metadata": {
        "colab": {
          "base_uri": "https://localhost:8080/"
        },
        "id": "SRsWvVvUMgEK",
        "outputId": "74a9eda8-9719-47ad-b725-b849b3d25013"
      },
      "source": [
        "trigrams_model.wv.most_similar('galaxy')"
      ],
      "execution_count": 37,
      "outputs": [
        {
          "output_type": "execute_result",
          "data": {
            "text/plain": [
              "[('space_shuttle', 0.943516731262207),\n",
              " ('deposit', 0.9353481531143188),\n",
              " ('laboratory', 0.9269174933433533),\n",
              " ('space_station', 0.9254798293113708),\n",
              " ('carrier', 0.9236605167388916),\n",
              " ('federal', 0.9230140447616577),\n",
              " ('detonate', 0.9220582246780396),\n",
              " ('shantytown', 0.919620931148529),\n",
              " ('continent', 0.9196074604988098),\n",
              " ('isolate_island', 0.9182952642440796)]"
            ]
          },
          "metadata": {},
          "execution_count": 37
        }
      ]
    },
    {
      "cell_type": "code",
      "metadata": {
        "colab": {
          "base_uri": "https://localhost:8080/",
          "height": 35
        },
        "id": "tg1Tf1rcMhjL",
        "outputId": "e61d6271-7cce-4ac5-c95d-4e757e87d0c9"
      },
      "source": [
        "trigrams_model.wv.doesnt_match(['galaxy', 'starship', 'planet', 'dog'])"
      ],
      "execution_count": 38,
      "outputs": [
        {
          "output_type": "execute_result",
          "data": {
            "application/vnd.google.colaboratory.intrinsic+json": {
              "type": "string"
            },
            "text/plain": [
              "'dog'"
            ]
          },
          "metadata": {},
          "execution_count": 38
        }
      ]
    },
    {
      "cell_type": "code",
      "metadata": {
        "colab": {
          "base_uri": "https://localhost:8080/"
        },
        "id": "9Fq0yF74MjgU",
        "outputId": "187cdbf9-a52e-476f-ffc4-b5fdc5302d78"
      },
      "source": [
        "%%time\n",
        "def vectorize_data(data, vocab: dict) -> list:\n",
        "    print('Vectorize sentences...', end='\\r')\n",
        "    keys = list(vocab.keys())\n",
        "    filter_unknown = lambda word: vocab.get(word, None) is not None\n",
        "    encode = lambda review: list(map(keys.index, filter(filter_unknown, review)))\n",
        "    vectorized = list(map(encode, data))\n",
        "    print('Vectorize sentences... (done)')\n",
        "    return vectorized\n",
        "\n",
        "print('Convert sentences to sentences with ngrams...', end='\\r')\n",
        "X_data = trigrams[bigrams[X_train_data]]\n",
        "print('Convert sentences to sentences with ngrams... (done)')\n",
        "input_length = 150\n",
        "X_pad = pad_sequences(\n",
        "    sequences=vectorize_data(X_data, vocab=trigrams_model.wv.vocab),\n",
        "    maxlen=input_length,\n",
        "    padding='post')\n",
        "print('Transform sentences to sequences... (done)')"
      ],
      "execution_count": 39,
      "outputs": [
        {
          "output_type": "stream",
          "name": "stdout",
          "text": [
            "Convert sentences to sentences with ngrams...\rConvert sentences to sentences with ngrams... (done)\n",
            "Vectorize sentences...\rVectorize sentences... (done)\n",
            "Transform sentences to sequences... (done)\n",
            "CPU times: user 7min 52s, sys: 1.43 s, total: 7min 53s\n",
            "Wall time: 7min 53s\n"
          ]
        }
      ]
    },
    {
      "cell_type": "code",
      "metadata": {
        "id": "JOtRaNchMlQA"
      },
      "source": [
        "X_train, X_test, y_train, y_test = train_test_split(\n",
        "    X_pad,\n",
        "    Y_train_data,\n",
        "    test_size=0.3,\n",
        "    shuffle=True,\n",
        "    random_state=42)"
      ],
      "execution_count": 40,
      "outputs": []
    },
    {
      "cell_type": "code",
      "metadata": {
        "colab": {
          "base_uri": "https://localhost:8080/"
        },
        "id": "-jw7ffXZMnpG",
        "outputId": "a0af9065-3902-491a-c58e-918f4190f399"
      },
      "source": [
        "from keras.layers import Dense,GRU,LSTM,Embedding\n",
        "def build_model(embedding_matrix: np.ndarray, input_length: int):\n",
        "    model = Sequential()\n",
        "    model.add(Embedding(\n",
        "        input_dim = embedding_matrix.shape[0],\n",
        "        output_dim = embedding_matrix.shape[1], \n",
        "        input_length = input_length,\n",
        "        weights = [embedding_matrix],\n",
        "        trainable=False))\n",
        "    model.add(GRU(64,dropout=0.4,return_sequences=True))\n",
        "    model.add(Dense(1, activation='sigmoid'))\n",
        "    model.summary()\n",
        "    return model\n",
        "\n",
        "model = build_model(\n",
        "    embedding_matrix=trigrams_model.wv.vectors,\n",
        "    input_length=input_length)"
      ],
      "execution_count": 41,
      "outputs": [
        {
          "output_type": "stream",
          "name": "stdout",
          "text": [
            "Model: \"sequential\"\n",
            "_________________________________________________________________\n",
            "Layer (type)                 Output Shape              Param #   \n",
            "=================================================================\n",
            "embedding (Embedding)        (None, 150, 256)          13507072  \n",
            "_________________________________________________________________\n",
            "gru (GRU)                    (None, 150, 64)           61824     \n",
            "_________________________________________________________________\n",
            "dense (Dense)                (None, 150, 1)            65        \n",
            "=================================================================\n",
            "Total params: 13,568,961\n",
            "Trainable params: 61,889\n",
            "Non-trainable params: 13,507,072\n",
            "_________________________________________________________________\n"
          ]
        }
      ]
    },
    {
      "cell_type": "code",
      "metadata": {
        "colab": {
          "base_uri": "https://localhost:8080/"
        },
        "id": "383tLQcCQhoU",
        "outputId": "2e50a910-61f5-4769-9fc0-c1645963bfdf"
      },
      "source": [
        "model.compile(\n",
        "    loss=\"binary_crossentropy\",\n",
        "    optimizer='adam',\n",
        "    metrics=['accuracy'])\n",
        "\n",
        "history = model.fit(\n",
        "    x=X_train,\n",
        "    y=y_train,\n",
        "    validation_data=(X_test, y_test),\n",
        "    batch_size=100,\n",
        "    epochs=20)"
      ],
      "execution_count": 43,
      "outputs": [
        {
          "output_type": "stream",
          "name": "stdout",
          "text": [
            "Epoch 1/20\n",
            "280/280 [==============================] - 72s 250ms/step - loss: 0.5164 - accuracy: 0.7347 - val_loss: 0.4892 - val_accuracy: 0.7526\n",
            "Epoch 2/20\n",
            "280/280 [==============================] - 70s 248ms/step - loss: 0.5059 - accuracy: 0.7406 - val_loss: 0.4803 - val_accuracy: 0.7576\n",
            "Epoch 3/20\n",
            "280/280 [==============================] - 70s 249ms/step - loss: 0.4962 - accuracy: 0.7467 - val_loss: 0.4830 - val_accuracy: 0.7568\n",
            "Epoch 4/20\n",
            "280/280 [==============================] - 70s 249ms/step - loss: 0.4920 - accuracy: 0.7509 - val_loss: 0.4819 - val_accuracy: 0.7556\n",
            "Epoch 5/20\n",
            "280/280 [==============================] - 70s 249ms/step - loss: 0.4841 - accuracy: 0.7550 - val_loss: 0.4816 - val_accuracy: 0.7596\n",
            "Epoch 6/20\n",
            "280/280 [==============================] - 68s 244ms/step - loss: 0.4832 - accuracy: 0.7576 - val_loss: 0.4974 - val_accuracy: 0.7460\n",
            "Epoch 7/20\n",
            "280/280 [==============================] - 69s 245ms/step - loss: 0.4762 - accuracy: 0.7604 - val_loss: 0.4707 - val_accuracy: 0.7660\n",
            "Epoch 8/20\n",
            "280/280 [==============================] - 68s 244ms/step - loss: 0.4720 - accuracy: 0.7635 - val_loss: 0.4634 - val_accuracy: 0.7689\n",
            "Epoch 9/20\n",
            "280/280 [==============================] - 68s 244ms/step - loss: 0.4656 - accuracy: 0.7673 - val_loss: 0.4617 - val_accuracy: 0.7694\n",
            "Epoch 10/20\n",
            "280/280 [==============================] - 70s 249ms/step - loss: 0.4644 - accuracy: 0.7667 - val_loss: 0.4607 - val_accuracy: 0.7704\n",
            "Epoch 11/20\n",
            "280/280 [==============================] - 69s 248ms/step - loss: 0.4582 - accuracy: 0.7722 - val_loss: 0.4694 - val_accuracy: 0.7654\n",
            "Epoch 12/20\n",
            "280/280 [==============================] - 68s 245ms/step - loss: 0.4528 - accuracy: 0.7759 - val_loss: 0.4593 - val_accuracy: 0.7708\n",
            "Epoch 13/20\n",
            "280/280 [==============================] - 68s 244ms/step - loss: 0.4503 - accuracy: 0.7765 - val_loss: 0.4571 - val_accuracy: 0.7720\n",
            "Epoch 14/20\n",
            "280/280 [==============================] - 68s 244ms/step - loss: 0.4455 - accuracy: 0.7813 - val_loss: 0.4568 - val_accuracy: 0.7730\n",
            "Epoch 15/20\n",
            "280/280 [==============================] - 68s 244ms/step - loss: 0.4459 - accuracy: 0.7806 - val_loss: 0.4548 - val_accuracy: 0.7748\n",
            "Epoch 16/20\n",
            "280/280 [==============================] - 68s 244ms/step - loss: 0.4400 - accuracy: 0.7836 - val_loss: 0.4645 - val_accuracy: 0.7704\n",
            "Epoch 17/20\n",
            "280/280 [==============================] - 68s 245ms/step - loss: 0.4378 - accuracy: 0.7859 - val_loss: 0.4549 - val_accuracy: 0.7762\n",
            "Epoch 18/20\n",
            "280/280 [==============================] - 69s 245ms/step - loss: 0.4340 - accuracy: 0.7863 - val_loss: 0.4584 - val_accuracy: 0.7732\n",
            "Epoch 19/20\n",
            "280/280 [==============================] - 68s 244ms/step - loss: 0.4371 - accuracy: 0.7860 - val_loss: 0.4559 - val_accuracy: 0.7738\n",
            "Epoch 20/20\n",
            "280/280 [==============================] - 68s 244ms/step - loss: 0.4291 - accuracy: 0.7899 - val_loss: 0.4590 - val_accuracy: 0.7717\n"
          ]
        }
      ]
    },
    {
      "cell_type": "code",
      "metadata": {
        "id": "XCFVihdlQmFz"
      },
      "source": [
        "model.save(\"/content/drive/MyDrive/IMDB Sentiment analysis/data/model_imdb_gru.h5\")"
      ],
      "execution_count": 44,
      "outputs": []
    },
    {
      "cell_type": "code",
      "metadata": {
        "id": "NgtPsZ2LSXAP"
      },
      "source": [
        "from keras.models import load_model\n",
        "model = load_model(\"/content/drive/MyDrive/IMDB Sentiment analysis/data/model_imdb_gru.h5\")"
      ],
      "execution_count": 45,
      "outputs": []
    },
    {
      "cell_type": "code",
      "metadata": {
        "colab": {
          "base_uri": "https://localhost:8080/"
        },
        "id": "PZFMCJrZSbft",
        "outputId": "b210b1c9-6b75-4c84-d658-dc3a8c7da045"
      },
      "source": [
        "%%time\n",
        "y_train_pred = model.predict(X_train)\n",
        "y_test_pred = model.predict(X_test)"
      ],
      "execution_count": 46,
      "outputs": [
        {
          "output_type": "stream",
          "name": "stdout",
          "text": [
            "CPU times: user 51.7 s, sys: 1.81 s, total: 53.5 s\n",
            "Wall time: 31.7 s\n"
          ]
        }
      ]
    },
    {
      "cell_type": "code",
      "metadata": {
        "id": "aXOPG5klSckx"
      },
      "source": [
        "y_test_pred = list(map(lambda x: 0 if x[0]<0.3 else 1, y_test_pred))"
      ],
      "execution_count": 47,
      "outputs": []
    },
    {
      "cell_type": "code",
      "metadata": {
        "colab": {
          "base_uri": "https://localhost:8080/"
        },
        "id": "A9CXAq4fSdlc",
        "outputId": "ea489b3a-81d4-497d-cbab-de433f413b15"
      },
      "source": [
        "confusion_matrix(y_test,y_test_pred)"
      ],
      "execution_count": 48,
      "outputs": [
        {
          "output_type": "execute_result",
          "data": {
            "text/plain": [
              "array([[ 276, 5733],\n",
              "       [  89, 5902]])"
            ]
          },
          "metadata": {},
          "execution_count": 48
        }
      ]
    },
    {
      "cell_type": "code",
      "metadata": {
        "id": "3wjL0F-wSen3"
      },
      "source": [
        "from sklearn.metrics import accuracy_score\n",
        "from sklearn.metrics import precision_score\n",
        "from sklearn.metrics import recall_score\n",
        "from sklearn.metrics import f1_score"
      ],
      "execution_count": 49,
      "outputs": []
    },
    {
      "cell_type": "code",
      "metadata": {
        "colab": {
          "base_uri": "https://localhost:8080/"
        },
        "id": "_uVeJEJsSi0J",
        "outputId": "23d4ff87-8bc5-43aa-b86a-21e65fa93b4e"
      },
      "source": [
        "accuracy = accuracy_score(y_test,y_test_pred)\n",
        "accuracy"
      ],
      "execution_count": 50,
      "outputs": [
        {
          "output_type": "execute_result",
          "data": {
            "text/plain": [
              "0.5148333333333334"
            ]
          },
          "metadata": {},
          "execution_count": 50
        }
      ]
    },
    {
      "cell_type": "code",
      "metadata": {
        "colab": {
          "base_uri": "https://localhost:8080/"
        },
        "id": "-qz2m-02SjyA",
        "outputId": "1a2204c7-61d1-45da-fe11-ebea53c2cdbb"
      },
      "source": [
        "precision = precision_score(y_test,y_test_pred)\n",
        "print('Precision: %f' % precision)\n",
        "# recall: tp / (tp + fn)\n",
        "recall = recall_score(y_test,y_test_pred)\n",
        "print('Recall: %f' % recall)\n",
        "# f1: 2 tp / (2 tp + fp + fn)\n",
        "f1 = f1_score(y_test,y_test_pred)\n",
        "print('F1 score: %f' % f1)"
      ],
      "execution_count": 51,
      "outputs": [
        {
          "output_type": "stream",
          "name": "stdout",
          "text": [
            "Precision: 0.507263\n",
            "Recall: 0.985144\n",
            "F1 score: 0.669692\n"
          ]
        }
      ]
    },
    {
      "cell_type": "code",
      "metadata": {
        "colab": {
          "base_uri": "https://localhost:8080/",
          "height": 203
        },
        "id": "Q2uIclUASk3Y",
        "outputId": "4198a6c0-d811-4ad2-da29-f58751273e2e"
      },
      "source": [
        "test_data.head()"
      ],
      "execution_count": 52,
      "outputs": [
        {
          "output_type": "execute_result",
          "data": {
            "text/html": [
              "<div>\n",
              "<style scoped>\n",
              "    .dataframe tbody tr th:only-of-type {\n",
              "        vertical-align: middle;\n",
              "    }\n",
              "\n",
              "    .dataframe tbody tr th {\n",
              "        vertical-align: top;\n",
              "    }\n",
              "\n",
              "    .dataframe thead th {\n",
              "        text-align: right;\n",
              "    }\n",
              "</style>\n",
              "<table border=\"1\" class=\"dataframe\">\n",
              "  <thead>\n",
              "    <tr style=\"text-align: right;\">\n",
              "      <th></th>\n",
              "      <th>review</th>\n",
              "    </tr>\n",
              "  </thead>\n",
              "  <tbody>\n",
              "    <tr>\n",
              "      <th>40000</th>\n",
              "      <td>First off I want to say that I lean liberal on...</td>\n",
              "    </tr>\n",
              "    <tr>\n",
              "      <th>40001</th>\n",
              "      <td>I was excited to see a sitcom that would hopef...</td>\n",
              "    </tr>\n",
              "    <tr>\n",
              "      <th>40002</th>\n",
              "      <td>When you look at the cover and read stuff abou...</td>\n",
              "    </tr>\n",
              "    <tr>\n",
              "      <th>40003</th>\n",
              "      <td>Like many others, I counted on the appearance ...</td>\n",
              "    </tr>\n",
              "    <tr>\n",
              "      <th>40004</th>\n",
              "      <td>This movie was on t.v the other day, and I did...</td>\n",
              "    </tr>\n",
              "  </tbody>\n",
              "</table>\n",
              "</div>"
            ],
            "text/plain": [
              "                                                  review\n",
              "40000  First off I want to say that I lean liberal on...\n",
              "40001  I was excited to see a sitcom that would hopef...\n",
              "40002  When you look at the cover and read stuff abou...\n",
              "40003  Like many others, I counted on the appearance ...\n",
              "40004  This movie was on t.v the other day, and I did..."
            ]
          },
          "metadata": {},
          "execution_count": 52
        }
      ]
    },
    {
      "cell_type": "code",
      "metadata": {
        "colab": {
          "base_uri": "https://localhost:8080/"
        },
        "id": "SA8m7nImSmW-",
        "outputId": "97345d97-9cfd-4c85-e3cc-9a9d8ee78a40"
      },
      "source": [
        "len(test_data)"
      ],
      "execution_count": 53,
      "outputs": [
        {
          "output_type": "execute_result",
          "data": {
            "text/plain": [
              "10000"
            ]
          },
          "metadata": {},
          "execution_count": 53
        }
      ]
    },
    {
      "cell_type": "code",
      "metadata": {
        "id": "ZUFcFMsKSnXQ"
      },
      "source": [
        "temp = []\n",
        "for i in range(len(test_data)):\n",
        "  temp.append(test_data.iloc[i]['review'])"
      ],
      "execution_count": 54,
      "outputs": []
    },
    {
      "cell_type": "code",
      "metadata": {
        "id": "ezyrMENISowl"
      },
      "source": [
        "X_submission = temp"
      ],
      "execution_count": 55,
      "outputs": []
    },
    {
      "cell_type": "code",
      "metadata": {
        "id": "2LVOJ08rSp0G"
      },
      "source": [
        "temp_arr=[]\n",
        "for i in range(len(X_submission)):\n",
        "  try:\n",
        "    temp_arr.append(preprocess(X_submission[i]))\n",
        "  except:\n",
        "    print('error in ',i)\n",
        "    continue"
      ],
      "execution_count": 56,
      "outputs": []
    },
    {
      "cell_type": "code",
      "metadata": {
        "id": "nSfQAvm3SqtD"
      },
      "source": [
        "X_submission = temp_arr"
      ],
      "execution_count": 57,
      "outputs": []
    },
    {
      "cell_type": "code",
      "metadata": {
        "colab": {
          "base_uri": "https://localhost:8080/"
        },
        "id": "lVJlU6a4Srof",
        "outputId": "361e5b49-9d1b-4082-bea8-1ff0d6405fbf"
      },
      "source": [
        "print('Convert sentences to sentences with ngrams...', end='\\r')\n",
        "X_submit = trigrams[bigrams[X_submission]]\n",
        "print('Convert sentences to sentences with ngrams... (done)')\n",
        "X_sub = pad_sequences(\n",
        "    sequences=vectorize_data(X_submit, vocab=trigrams_model.wv.vocab),\n",
        "    maxlen=input_length,\n",
        "    padding='post')\n",
        "print('Transform sentences to sequences... (done)')"
      ],
      "execution_count": 58,
      "outputs": [
        {
          "output_type": "stream",
          "name": "stdout",
          "text": [
            "Convert sentences to sentences with ngrams...\rConvert sentences to sentences with ngrams... (done)\n",
            "Vectorize sentences...\rVectorize sentences... (done)\n",
            "Transform sentences to sequences... (done)\n"
          ]
        }
      ]
    },
    {
      "cell_type": "code",
      "metadata": {
        "colab": {
          "base_uri": "https://localhost:8080/"
        },
        "id": "WuWHXRxsSseO",
        "outputId": "29d55b52-0024-4fd7-c21d-5bd2d95d3a14"
      },
      "source": [
        "%%time\n",
        "Y_sub_pred = model.predict(X_sub)"
      ],
      "execution_count": 59,
      "outputs": [
        {
          "output_type": "stream",
          "name": "stdout",
          "text": [
            "CPU times: user 13.3 s, sys: 464 ms, total: 13.8 s\n",
            "Wall time: 10.6 s\n"
          ]
        }
      ]
    },
    {
      "cell_type": "code",
      "metadata": {
        "colab": {
          "base_uri": "https://localhost:8080/"
        },
        "id": "s24gh0PqStko",
        "outputId": "05228bda-40a3-47a0-af14-a090aa731591"
      },
      "source": [
        "len(Y_sub_pred)"
      ],
      "execution_count": 64,
      "outputs": [
        {
          "output_type": "execute_result",
          "data": {
            "text/plain": [
              "10000"
            ]
          },
          "metadata": {},
          "execution_count": 64
        }
      ]
    },
    {
      "cell_type": "code",
      "metadata": {
        "id": "ke6uhV5VSupf"
      },
      "source": [
        "Y_sub_pred"
      ],
      "execution_count": null,
      "outputs": []
    },
    {
      "cell_type": "code",
      "metadata": {
        "id": "LQbKyTdkSvkY"
      },
      "source": [
        "Y_sub_pred = list(map(lambda x: 0 if x<0.3 else 1, Y_sub_pred))\n",
        "# Y_sub_pred"
      ],
      "execution_count": 69,
      "outputs": []
    },
    {
      "cell_type": "code",
      "metadata": {
        "colab": {
          "base_uri": "https://localhost:8080/"
        },
        "id": "GVJvEGKqSxSv",
        "outputId": "103a4baf-706b-4eeb-c114-d788b164b71a"
      },
      "source": [
        "print(y_actual_pred[0:5])\n",
        "print(Y_sub_pred[0:5])"
      ],
      "execution_count": 70,
      "outputs": [
        {
          "output_type": "stream",
          "name": "stdout",
          "text": [
            "40000    1\n",
            "40001    1\n",
            "40002    1\n",
            "40003    1\n",
            "40004    1\n",
            "Name: sentiment, dtype: int64\n",
            "[1, 1, 1, 1, 1]\n"
          ]
        }
      ]
    },
    {
      "cell_type": "code",
      "metadata": {
        "colab": {
          "base_uri": "https://localhost:8080/"
        },
        "id": "51YJsSzSSyM4",
        "outputId": "b8eb78d3-244b-43dd-e421-4861994872ed"
      },
      "source": [
        "accuracy = accuracy_score(y_actual_pred,Y_sub_pred)\n",
        "accuracy"
      ],
      "execution_count": 71,
      "outputs": [
        {
          "output_type": "execute_result",
          "data": {
            "text/plain": [
              "0.5176"
            ]
          },
          "metadata": {},
          "execution_count": 71
        }
      ]
    },
    {
      "cell_type": "code",
      "metadata": {
        "colab": {
          "base_uri": "https://localhost:8080/"
        },
        "id": "xn6LDyUPSzN8",
        "outputId": "d660f608-9989-4732-fe34-e8602e99ed36"
      },
      "source": [
        "precision = precision_score(y_actual_pred,Y_sub_pred)\n",
        "print('Precision: %f' % precision)\n",
        "# recall: tp / (tp + fn)\n",
        "recall = recall_score(y_actual_pred,Y_sub_pred)\n",
        "print('Recall: %f' % recall)\n",
        "# f1: 2 tp / (2 tp + fp + fn)\n",
        "f1 = f1_score(y_actual_pred,Y_sub_pred)\n",
        "print('F1 score: %f' % f1)"
      ],
      "execution_count": 72,
      "outputs": [
        {
          "output_type": "stream",
          "name": "stdout",
          "text": [
            "Precision: 0.508718\n",
            "Recall: 0.987583\n",
            "F1 score: 0.671524\n"
          ]
        }
      ]
    },
    {
      "cell_type": "code",
      "metadata": {
        "id": "_kr26UpiS0Vg"
      },
      "source": [
        ""
      ],
      "execution_count": null,
      "outputs": []
    }
  ]
}